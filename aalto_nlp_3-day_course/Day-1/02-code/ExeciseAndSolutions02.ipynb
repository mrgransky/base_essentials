{
  "cells": [
    {
      "cell_type": "markdown",
      "metadata": {
        "id": "j2oLt9m4cAtD"
      },
      "source": [
        "<center>\n",
        "    <h1> Natural Language Processing and Large Language Models for Research Data Exploration and Analysis\n",
        " </h1> </center>\n",
        "\n",
        "<center> <h1> Day-1: Text Classification and Sentiment Analysis using TextBlob </h1> </center>\n",
        "\n",
        "<center> <h2> Exercise - 02 (part - 01) </h2> </center>\n",
        "\n",
        "<center> <h4> Raghava Mukkamala (rrm.digi@cbs.dk)  </h4> </center>\n",
        "\n",
        "\n",
        "### Instructions\n",
        "\n",
        "#### Please use Python 3 for working on the following questions.\n",
        "\n"
      ]
    },
    {
      "cell_type": "markdown",
      "metadata": {
        "id": "jYxvNBNocAtE"
      },
      "source": [
        "## Exercise 01 - Text Classification using NaiveBayesClassifier from textblob\n",
        "\n",
        "Source: https://textblob.readthedocs.io/en/dev/classifiers.html\n",
        "\n",
        "adapted by Raghava Mukkamala\n",
        "\n",
        "\n",
        "https://textblob.readthedocs.io/en/dev/install.html"
      ]
    },
    {
      "cell_type": "code",
      "execution_count": null,
      "metadata": {
        "id": "_XRIVp1UcAtF"
      },
      "outputs": [],
      "source": [
        "# !pip install nltk\n",
        "# !pip install textblob\n",
        "# !pip install prettytable"
      ]
    },
    {
      "cell_type": "code",
      "execution_count": null,
      "metadata": {
        "id": "pV10kmdgcAtG"
      },
      "outputs": [],
      "source": [
        "import textblob\n",
        "import nltk"
      ]
    },
    {
      "cell_type": "code",
      "execution_count": null,
      "metadata": {
        "id": "ZdsHC2H2cAtH"
      },
      "outputs": [],
      "source": [
        "import collections\n",
        "from textblob.classifiers import NaiveBayesClassifier\n",
        "from textblob import TextBlob\n",
        "from prettytable import PrettyTable\n",
        "from nltk import precision\n",
        "import nltk.metrics\n",
        "\n"
      ]
    },
    {
      "cell_type": "markdown",
      "metadata": {
        "id": "GYj0CtzkcAtH"
      },
      "source": [
        "We need to download NLTK Corpus to proceed with text classification. So we first import nltk and then call the download punkt tokenizer.\n",
        "\n",
        "More information can be found at: https://www.nltk.org/api/nltk.tokenize.punkt.html"
      ]
    },
    {
      "cell_type": "code",
      "execution_count": null,
      "metadata": {
        "colab": {
          "base_uri": "https://localhost:8080/"
        },
        "id": "m4E4csLhcAtH",
        "outputId": "ffd31d26-d322-4ea8-92c6-712e713f3cc5"
      },
      "outputs": [
        {
          "output_type": "stream",
          "name": "stderr",
          "text": [
            "[nltk_data] Downloading package punkt to /root/nltk_data...\n",
            "[nltk_data]   Package punkt is already up-to-date!\n",
            "[nltk_data] Downloading package punkt_tab to /root/nltk_data...\n",
            "[nltk_data]   Unzipping tokenizers/punkt_tab.zip.\n"
          ]
        },
        {
          "output_type": "execute_result",
          "data": {
            "text/plain": [
              "True"
            ]
          },
          "metadata": {},
          "execution_count": 8
        }
      ],
      "source": [
        "nltk.download('punkt')\n",
        "nltk.download('punkt_tab')"
      ]
    },
    {
      "cell_type": "markdown",
      "metadata": {
        "id": "mgk5OIL6cAtI"
      },
      "source": [
        "## Preparing training set for sentiment"
      ]
    },
    {
      "cell_type": "code",
      "execution_count": null,
      "metadata": {
        "colab": {
          "base_uri": "https://localhost:8080/"
        },
        "id": "I0kJ6AWXcAtI",
        "outputId": "77f49a08-c522-42bc-bb84-543086d607d1"
      },
      "outputs": [
        {
          "output_type": "execute_result",
          "data": {
            "text/plain": [
              "[('I love this sandwich.', 'pos'),\n",
              " ('This is an amazing place!', 'pos'),\n",
              " ('I feel very good about these beers.', 'pos'),\n",
              " ('This is my best work.', 'pos'),\n",
              " ('What an awesome view', 'pos'),\n",
              " ('I do not like this restaurant', 'neg'),\n",
              " ('I am tired of this stuff.', 'neg'),\n",
              " (\"I can't deal with this\", 'neg'),\n",
              " ('He is my sworn enemy!', 'neg'),\n",
              " ('My boss is horrible.', 'neg')]"
            ]
          },
          "metadata": {},
          "execution_count": 6
        }
      ],
      "source": [
        "train = [\n",
        "    ('I love this sandwich.', 'pos'),\n",
        "    ('This is an amazing place!', 'pos'),\n",
        "    ('I feel very good about these beers.', 'pos'),\n",
        "    ('This is my best work.', 'pos'),\n",
        "    (\"What an awesome view\", 'pos'),\n",
        "    ('I do not like this restaurant', 'neg'),\n",
        "    ('I am tired of this stuff.', 'neg'),\n",
        "    (\"I can't deal with this\", 'neg'),\n",
        "    ('He is my sworn enemy!', 'neg'),\n",
        "    ('My boss is horrible.', 'neg')\n",
        "]\n",
        "\n",
        "train"
      ]
    },
    {
      "cell_type": "markdown",
      "metadata": {
        "id": "qNYyAqRVcAtI"
      },
      "source": [
        "## Build the NaiveBayesClassifier using training set\n"
      ]
    },
    {
      "cell_type": "code",
      "execution_count": null,
      "metadata": {
        "id": "gJckmOs-cAtJ"
      },
      "outputs": [],
      "source": [
        "cls = NaiveBayesClassifier(train)"
      ]
    },
    {
      "cell_type": "code",
      "execution_count": null,
      "metadata": {
        "id": "tn2SsSoTcAtJ"
      },
      "outputs": [],
      "source": [
        "test = [\n",
        "    ('The beer was good.', 'pos'),\n",
        "    ('I do not enjoy my job', 'neg'),\n",
        "    (\"I ain't feeling dandy today.\", 'neg'),\n",
        "    (\"I feel amazing!\", 'pos'),\n",
        "    ('Gary is a friend of mine.', 'pos'),\n",
        "    (\"I can't believe I'm doing this.\", 'neg')\n",
        "]\n"
      ]
    },
    {
      "cell_type": "code",
      "execution_count": null,
      "metadata": {
        "colab": {
          "base_uri": "https://localhost:8080/"
        },
        "id": "2dGvdPbUcAtJ",
        "outputId": "d4748617-d611-4bca-9883-965e94741f3b"
      },
      "outputs": [
        {
          "output_type": "stream",
          "name": "stdout",
          "text": [
            "classifier accuracy: 0.8333333333333334\n"
          ]
        }
      ],
      "source": [
        "print('classifier accuracy:', cls.accuracy(test))"
      ]
    },
    {
      "cell_type": "markdown",
      "metadata": {
        "id": "tVP3HRCYcAtJ"
      },
      "source": [
        "## Agreement between  human labels and classifier predictions"
      ]
    },
    {
      "cell_type": "code",
      "execution_count": null,
      "metadata": {
        "colab": {
          "base_uri": "https://localhost:8080/"
        },
        "id": "GLVzIH62cAtJ",
        "outputId": "5ed7e6ea-d666-4791-fda0-9313097e35d7"
      },
      "outputs": [
        {
          "output_type": "stream",
          "name": "stdout",
          "text": [
            "+---------------------------------+-------------+-----------------------+\n",
            "|               text              | human label | classifier prediction |\n",
            "+---------------------------------+-------------+-----------------------+\n",
            "|        The beer was good.       |     pos     |          pos          |\n",
            "|      I do not enjoy my job      |     neg     |          neg          |\n",
            "|   I ain't feeling dandy today.  |     neg     |          neg          |\n",
            "|         I feel amazing!         |     pos     |          pos          |\n",
            "|    Gary is a friend of mine.    |     pos     |          neg          |\n",
            "| I can't believe I'm doing this. |     neg     |          neg          |\n",
            "+---------------------------------+-------------+-----------------------+\n"
          ]
        }
      ],
      "source": [
        "tab = PrettyTable(['text', 'human label', 'classifier prediction'])\n",
        "\n",
        "predicted_labels = collections.defaultdict(set)\n",
        "\n",
        "actual_labels = collections.defaultdict(set)\n",
        "\n",
        "i = 0\n",
        "for (text, label) in test:\n",
        "    predicted = cls.classify(text)\n",
        "    tab.add_row([text, label, predicted])\n",
        "    actual_labels[label].add(i)\n",
        "    predicted_labels[predicted].add(i)\n",
        "    i+=1\n",
        "\n",
        "\n",
        "print(tab)\n"
      ]
    },
    {
      "cell_type": "markdown",
      "metadata": {
        "id": "9rS5p76bcAtK"
      },
      "source": [
        "## Print Classification Report (a.k.a Confusion Matrix)"
      ]
    },
    {
      "cell_type": "code",
      "execution_count": null,
      "metadata": {
        "colab": {
          "base_uri": "https://localhost:8080/"
        },
        "id": "GTAiItL1cAtK",
        "outputId": "d943d300-0fa2-4916-ec53-9ef1cda25cac"
      },
      "outputs": [
        {
          "output_type": "stream",
          "name": "stdout",
          "text": [
            "['pos', 'neg', 'neg', 'pos', 'pos', 'neg']\n",
            "['pos', 'neg', 'neg', 'pos', 'neg', 'neg']\n",
            "              precision    recall  f1-score   support\n",
            "\n",
            "    negative       0.75      1.00      0.86         3\n",
            "    positive       1.00      0.67      0.80         3\n",
            "\n",
            "    accuracy                           0.83         6\n",
            "   macro avg       0.88      0.83      0.83         6\n",
            "weighted avg       0.88      0.83      0.83         6\n",
            "\n"
          ]
        }
      ],
      "source": [
        "from sklearn.metrics import classification_report\n",
        "\n",
        "# Generate predictions\n",
        "y_true = [label for _, label in test]  # True labels\n",
        "y_pred = [cls.classify(text) for text, _ in test]  # Predicted labels\n",
        "\n",
        "print(y_true)\n",
        "print(y_pred)\n",
        "\n",
        "report = classification_report(y_true, y_pred, target_names=['negative', 'positive'])\n",
        "print(report)"
      ]
    },
    {
      "cell_type": "markdown",
      "metadata": {
        "id": "rwKmcHlOcAtL"
      },
      "source": [
        "## Performance measures using NLTK"
      ]
    },
    {
      "cell_type": "code",
      "execution_count": null,
      "metadata": {
        "colab": {
          "base_uri": "https://localhost:8080/"
        },
        "id": "nFLvO0r8cAtL",
        "outputId": "6368ff46-520f-48c9-ddd0-92c3293cfab2"
      },
      "outputs": [
        {
          "output_type": "stream",
          "name": "stdout",
          "text": [
            "+-------+-----------+--------------------+--------------------+\n",
            "| Label | precision |       recall       |     f-measure      |\n",
            "+-------+-----------+--------------------+--------------------+\n",
            "|  pos  |    1.0    | 0.6666666666666666 |        0.8         |\n",
            "|  neg  |    0.75   |        1.0         | 0.8571428571428572 |\n",
            "+-------+-----------+--------------------+--------------------+\n"
          ]
        }
      ],
      "source": [
        "tab2 = PrettyTable(['Label', 'precision', 'recall', 'f-measure'])\n",
        "\n",
        "for label in actual_labels:\n",
        "    tab2.add_row([label, nltk.precision(actual_labels[label], predicted_labels[label]),\n",
        "                nltk.recall(actual_labels[label], predicted_labels[label]),\n",
        "                nltk.f_measure(actual_labels[label], predicted_labels[label])])\n",
        "\n",
        "print(tab2)"
      ]
    },
    {
      "cell_type": "markdown",
      "metadata": {
        "id": "SVVy3c6OcAtL"
      },
      "source": [
        "## Printing most informative measures"
      ]
    },
    {
      "cell_type": "code",
      "execution_count": null,
      "metadata": {
        "colab": {
          "base_uri": "https://localhost:8080/"
        },
        "id": "kmiEwN6GcAtL",
        "outputId": "b8c1cd0d-0868-4f9e-ef6b-d8d43fa70ee2"
      },
      "outputs": [
        {
          "output_type": "stream",
          "name": "stdout",
          "text": [
            "Most Informative Features\n",
            "          contains(this) = True              neg : pos    =      2.3 : 1.0\n",
            "          contains(this) = False             pos : neg    =      1.8 : 1.0\n",
            "          contains(This) = False             neg : pos    =      1.6 : 1.0\n",
            "            contains(an) = False             neg : pos    =      1.6 : 1.0\n",
            "             contains(I) = False             pos : neg    =      1.4 : 1.0\n",
            "             contains(I) = True              neg : pos    =      1.4 : 1.0\n",
            "            contains(He) = False             pos : neg    =      1.2 : 1.0\n",
            "            contains(My) = False             pos : neg    =      1.2 : 1.0\n",
            "          contains(What) = False             neg : pos    =      1.2 : 1.0\n",
            "         contains(about) = False             neg : pos    =      1.2 : 1.0\n",
            "            contains(am) = False             pos : neg    =      1.2 : 1.0\n",
            "       contains(amazing) = False             neg : pos    =      1.2 : 1.0\n",
            "       contains(awesome) = False             neg : pos    =      1.2 : 1.0\n",
            "         contains(beers) = False             neg : pos    =      1.2 : 1.0\n",
            "          contains(best) = False             neg : pos    =      1.2 : 1.0\n",
            "          contains(boss) = False             pos : neg    =      1.2 : 1.0\n",
            "            contains(ca) = False             pos : neg    =      1.2 : 1.0\n",
            "          contains(deal) = False             pos : neg    =      1.2 : 1.0\n",
            "            contains(do) = False             pos : neg    =      1.2 : 1.0\n",
            "         contains(enemy) = False             pos : neg    =      1.2 : 1.0\n",
            "          contains(feel) = False             neg : pos    =      1.2 : 1.0\n",
            "          contains(good) = False             neg : pos    =      1.2 : 1.0\n",
            "      contains(horrible) = False             pos : neg    =      1.2 : 1.0\n",
            "          contains(like) = False             pos : neg    =      1.2 : 1.0\n",
            "          contains(love) = False             neg : pos    =      1.2 : 1.0\n",
            "           contains(n't) = False             pos : neg    =      1.2 : 1.0\n",
            "           contains(not) = False             pos : neg    =      1.2 : 1.0\n",
            "            contains(of) = False             pos : neg    =      1.2 : 1.0\n",
            "         contains(place) = False             neg : pos    =      1.2 : 1.0\n",
            "    contains(restaurant) = False             pos : neg    =      1.2 : 1.0\n",
            "      contains(sandwich) = False             neg : pos    =      1.2 : 1.0\n",
            "         contains(stuff) = False             pos : neg    =      1.2 : 1.0\n",
            "         contains(sworn) = False             pos : neg    =      1.2 : 1.0\n",
            "         contains(these) = False             neg : pos    =      1.2 : 1.0\n",
            "         contains(tired) = False             pos : neg    =      1.2 : 1.0\n",
            "          contains(very) = False             neg : pos    =      1.2 : 1.0\n",
            "          contains(view) = False             neg : pos    =      1.2 : 1.0\n",
            "          contains(with) = False             pos : neg    =      1.2 : 1.0\n",
            "          contains(work) = False             neg : pos    =      1.2 : 1.0\n"
          ]
        }
      ],
      "source": [
        "cls.show_informative_features(50)"
      ]
    },
    {
      "cell_type": "markdown",
      "metadata": {
        "id": "Uk6dwHSOcAtL"
      },
      "source": [
        "## Test the classifier on new data"
      ]
    },
    {
      "cell_type": "code",
      "execution_count": null,
      "metadata": {
        "colab": {
          "base_uri": "https://localhost:8080/"
        },
        "id": "dgMuVJcucAtL",
        "outputId": "8e92351a-afa6-4653-9f64-928d06c62b7f"
      },
      "outputs": [
        {
          "output_type": "stream",
          "name": "stdout",
          "text": [
            "label for: \"Their burgers are amazing\"  pos\n",
            "label for: \"I dont like their pizza\"  neg\n"
          ]
        }
      ],
      "source": [
        "print('label for: \"Their burgers are amazing\" ', cls.classify(\"Their burgers are amazing\"))\n",
        "print('label for: \"I dont like their pizza\" ', cls.classify(\"I don't like their pizza.\"))"
      ]
    },
    {
      "cell_type": "markdown",
      "metadata": {
        "id": "xazfPrA9cAtM"
      },
      "source": [
        "## what is the sentiment of \"my boss appreciated me\""
      ]
    },
    {
      "cell_type": "code",
      "execution_count": null,
      "metadata": {
        "colab": {
          "base_uri": "https://localhost:8080/"
        },
        "id": "M41424BXcAtM",
        "outputId": "1a1fb8b2-9ad8-4ea1-8b7a-58c69ce71fc0"
      },
      "outputs": [
        {
          "output_type": "stream",
          "name": "stdout",
          "text": [
            "label for:\"my boss appreciated me.\"  neg\n"
          ]
        }
      ],
      "source": [
        "print('label for: \"my boss appreciated me.\" ', cls.classify(\"my boss appreciated me\"))"
      ]
    },
    {
      "cell_type": "markdown",
      "metadata": {
        "id": "JMO5WbJmcAtM"
      },
      "source": [
        "## <font color='red'>Task - 01:</font>\n",
        "\n",
        "    Build a simple Naive Bayes Classifier for a mini set of Emotions (e.g. fear, happiness, and sadness) using\n",
        "    TextBlob library. You can prepare a simple training set yourselves in the similar lines of the above\n",
        "    example."
      ]
    },
    {
      "cell_type": "code",
      "source": [
        "# YOUR SOLUTION HERE\n",
        "\n",
        "\n",
        "# Create a list of labels\n",
        "\n",
        "\n",
        "\n",
        "# Create a training set\n",
        "\n",
        "\n",
        "\n"
      ],
      "metadata": {
        "id": "9PsvFvlsxyU6"
      },
      "execution_count": null,
      "outputs": []
    },
    {
      "cell_type": "code",
      "source": [
        "# Create the Naive Bayes Classifier\n",
        "\n",
        "\n"
      ],
      "metadata": {
        "id": "cwf0tW4xx5ZH"
      },
      "execution_count": null,
      "outputs": []
    },
    {
      "cell_type": "code",
      "source": [
        "# Create the test dataset\n",
        "\n",
        "\n",
        "\n"
      ],
      "metadata": {
        "id": "rf7TaRo6yBPF"
      },
      "execution_count": null,
      "outputs": []
    },
    {
      "cell_type": "code",
      "source": [
        "# Print the accuracy of the model\n",
        "\n",
        "\n",
        "\n",
        "\n"
      ],
      "metadata": {
        "id": "AH8iVE71yDGO"
      },
      "execution_count": null,
      "outputs": []
    },
    {
      "cell_type": "code",
      "execution_count": null,
      "metadata": {
        "id": "mSQlatLCcAtM"
      },
      "outputs": [],
      "source": [
        "# SOLUTION FOR TASK - 01:\n",
        "\n",
        "emotion_labels = ['fear', 'happiness', 'sadness']\n",
        "\n",
        "train = [\n",
        "    ('I am scared of fear.', 'fear'),\n",
        "    ('I hate ghost movies.', 'fear'),\n",
        "    ('This is an amazing place!', 'pos'),\n",
        "    ('I feel very good about these beers.', 'pos'),\n",
        "    ('This is my best work.', 'pos'),\n",
        "    (\"What an awesome view\", 'pos'),\n",
        "    ('I do not like this restaurant', 'neg'),\n",
        "    ('I am tired of this stuff.', 'neg'),\n",
        "    (\"I can't deal with this\", 'neg'),\n",
        "    ('He is my sworn enemy!', 'neg'),\n",
        "    ('My boss is horrible.', 'neg')\n",
        "]\n",
        "\n",
        "\n",
        "\n"
      ]
    },
    {
      "cell_type": "code",
      "execution_count": null,
      "metadata": {
        "id": "-WH2DBCecAtM"
      },
      "outputs": [],
      "source": [
        "cls_emotions = NaiveBayesClassifier(train)"
      ]
    },
    {
      "cell_type": "code",
      "execution_count": null,
      "metadata": {
        "id": "m2gNM8TbcAtM"
      },
      "outputs": [],
      "source": [
        "test = [\n",
        "    ('The beer was good.', 'pos'),\n",
        "    ('I do not enjoy my job', 'neg'),\n",
        "    (\"I ain't feeling dandy today.\", 'neg'),\n",
        "    (\"I feel amazing!\", 'pos'),\n",
        "    ('Gary is a friend of mine.', 'pos'),\n",
        "    (\"I can't believe I'm doing this.\", 'neg')\n",
        "]\n"
      ]
    },
    {
      "cell_type": "code",
      "execution_count": null,
      "metadata": {
        "colab": {
          "base_uri": "https://localhost:8080/"
        },
        "id": "MLj_gEOzcAtM",
        "outputId": "a0ef28d3-0a2f-44c9-c92d-859ccc95fc3e"
      },
      "outputs": [
        {
          "output_type": "stream",
          "name": "stdout",
          "text": [
            "classifier accuracy: 0.8333333333333334\n"
          ]
        }
      ],
      "source": [
        "print('classifier accuracy:', cls_emotions.accuracy(test))"
      ]
    },
    {
      "cell_type": "code",
      "execution_count": null,
      "metadata": {
        "colab": {
          "base_uri": "https://localhost:8080/"
        },
        "id": "C1GOPZPVcAtN",
        "outputId": "35f17cf3-3780-4c3c-b1a0-ad0db0b4d992"
      },
      "outputs": [
        {
          "output_type": "stream",
          "name": "stdout",
          "text": [
            "label for: \"I dont like ghost movies.\"  fear\n"
          ]
        }
      ],
      "source": [
        "print('label for: \"I dont like ghost movies.\" ', cls_emotions.classify(\"I dont like ghost movies\"))"
      ]
    }
  ],
  "metadata": {
    "kernelspec": {
      "display_name": "Python 3 (ipykernel)",
      "language": "python",
      "name": "python3"
    },
    "language_info": {
      "codemirror_mode": {
        "name": "ipython",
        "version": 3
      },
      "file_extension": ".py",
      "mimetype": "text/x-python",
      "name": "python",
      "nbconvert_exporter": "python",
      "pygments_lexer": "ipython3",
      "version": "3.11.5"
    },
    "colab": {
      "provenance": []
    }
  },
  "nbformat": 4,
  "nbformat_minor": 0
}